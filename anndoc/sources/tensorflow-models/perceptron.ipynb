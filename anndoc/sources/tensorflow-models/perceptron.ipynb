{
 "cells": [
  {
   "cell_type": "markdown",
   "metadata": {},
   "source": [
    "# Perceptron"
   ]
  },
  {
   "cell_type": "code",
   "execution_count": 1,
   "metadata": {
    "collapsed": true
   },
   "outputs": [],
   "source": [
    "%matplotlib inline\n",
    "import numpy as np\n",
    "import matplotlib.pyplot as plt\n",
    "import tensorflow\n",
    "from ann.tf.perceptron import perceptron"
   ]
  },
  {
   "cell_type": "code",
   "execution_count": 33,
   "metadata": {
    "collapsed": false
   },
   "outputs": [
    {
     "name": "stdout",
     "output_type": "stream",
     "text": [
      "Training error epoch 1: 0.02\n",
      "Training error epoch 2: 0.00\n",
      "Training error epoch 3: 0.00\n",
      "Weights:\n",
      " [[ 4.29999971]\n",
      " [ 2.28999972]]\n",
      "Bias [[-5.]]\n"
     ]
    }
   ],
   "source": [
    "# Load data\n",
    "data = np.genfromtxt('https://raw.githubusercontent.com/rasbt/deep-learning-book'\n",
    "                     '/master/code/ch02_perceptron/perceptron_toydata.txt', delimiter='\\t')\n",
    "X, y = data[:, :-1], data[:, -1]\n",
    "y = y.astype(np.int)\n",
    "num_features = X.shape[1]\n",
    "\n",
    "# Initialize graph\n",
    "g = tf.Graph()\n",
    "with g.as_default() as g:\n",
    "    perceptron(num_features=num_features)\n",
    "    \n",
    "# Train perceptron\n",
    "with tf.Session(graph=g) as sess:\n",
    "    sess.run(tf.global_variables_initializer())\n",
    "    \n",
    "    for epoch in range(1, 4):\n",
    "        for example, target in zip(X, y):\n",
    "            feed_dict = {'features:0': example.reshape(-1, num_features),\n",
    "                         'targets:0': target.reshape(-1, 1)}\n",
    "            _ = sess.run('train:0', feed_dict=feed_dict)\n",
    "    \n",
    "        pred = sess.run('predict:0', feed_dict={'features:0': X})\n",
    "        train_error = np.sum(pred.reshape(-1) != y) / X.shape[0]\n",
    "        print('Training error epoch %d: %.2f' % (epoch, train_error))\n",
    "    \n",
    "    weights, bias = sess.run(['weights:0', 'bias:0'])\n",
    "    print('Weights:\\n', weights)\n",
    "    print('Bias', bias)"
   ]
  },
  {
   "cell_type": "code",
   "execution_count": 32,
   "metadata": {
    "collapsed": false
   },
   "outputs": [
    {
     "data": {
      "image/png": "[encoded data removed]",
      "text/plain": [
       "<matplotlib.figure.Figure at 0x10e673a58>"
      ]
     },
     "metadata": {},
     "output_type": "display_data"
    }
   ],
   "source": [
    "x_min = -2\n",
    "y_min = ( -(weights[0] * x_min) / weights[1]\n",
    "          -(bias[0] / weights[1]) )\n",
    "\n",
    "x_max = 4\n",
    "y_max = ( -(weights[0] * x_max) / weights[1]\n",
    "          -(bias[0] / weights[1]) )\n",
    "\n",
    "fig, ax = plt.subplots(1)\n",
    "\n",
    "ax.plot([x_min, x_max], [y_min, y_max])\n",
    "ax.scatter(X[y==0, 0], X[y==0, 1], label='class 0', marker='o')\n",
    "ax.scatter(X[y==1, 0], X[y==1, 1], label='class 1', marker='s')\n",
    "\n",
    "ax.legend(loc='upper left')\n",
    "plt.show()"
   ]
  }
 ],
 "metadata": {
  "anaconda-cloud": {},
  "kernelspec": {
   "display_name": "Python [default]",
   "language": "python",
   "name": "python3"
  },
  "language_info": {
   "codemirror_mode": {
    "name": "ipython",
    "version": 3
   },
   "file_extension": ".py",
   "mimetype": "text/x-python",
   "name": "python",
   "nbconvert_exporter": "python",
   "pygments_lexer": "ipython3",
   "version": "3.5.2"
  }
 },
 "nbformat": 4,
 "nbformat_minor": 2
}
